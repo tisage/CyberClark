{
 "cells": [
  {
   "attachments": {},
   "cell_type": "markdown",
   "metadata": {},
   "source": [
    "## Setup Vector Database\n",
    "\n",
    "Handles the loading and creation of the FAISS vector database for the CLARK library."
   ]
  },
  {
   "cell_type": "code",
   "execution_count": 1,
   "metadata": {},
   "outputs": [
    {
     "name": "stdout",
     "output_type": "stream",
     "text": [
      "CLARK Vector DB loaded from db/clark_db/clark_library_db\n"
     ]
    }
   ],
   "source": [
    "import glob\n",
    "import os\n",
    "from langchain_community.document_loaders import PyPDFLoader\n",
    "from langchain.text_splitter import RecursiveCharacterTextSplitter\n",
    "from langchain_community.vectorstores import FAISS\n",
    "from langchain_core.documents import Document\n",
    "from langchain_openai import OpenAIEmbeddings\n",
    "from dotenv import load_dotenv\n",
    "\n",
    "# Load environment variables\n",
    "load_dotenv()\n",
    "OPENAI_API_KEY = os.environ['OPENAI_API_KEY']\n",
    "\n",
    "def get_all_pdfs(directory: str) -> list[str]:\n",
    "    \"\"\"Recursively find all PDF files in the specified directory.\"\"\"\n",
    "    return glob.glob(f\"{directory}/**/*.pdf\", recursive=True)\n",
    "\n",
    "def load_clark_vectorstore(db_path: str, base_dir: str) -> FAISS:\n",
    "    \"\"\"\n",
    "    Load or create a FAISS vector store for the CLARK library.\n",
    "\n",
    "    Args:\n",
    "        db_path (str): Path to the saved vector store.\n",
    "        base_dir (str): Directory containing CLARK library PDFs.\n",
    "\n",
    "    Returns:\n",
    "        FAISS: The loaded or newly created vector store.\n",
    "    \"\"\"\n",
    "    if os.path.exists(db_path):\n",
    "        embeddings = OpenAIEmbeddings()\n",
    "        vectorstore = FAISS.load_local(\n",
    "            db_path, embeddings, allow_dangerous_deserialization=True\n",
    "        )\n",
    "        print(f\"CLARK Vector DB loaded from {db_path}\")\n",
    "    else:\n",
    "        pdf_files = get_all_pdfs(base_dir)\n",
    "        if not pdf_files:\n",
    "            print(f\"Warning: No PDF files found in {base_dir} or its subdirectories\")\n",
    "            embeddings = OpenAIEmbeddings()\n",
    "            vectorstore = FAISS.from_documents(\n",
    "                [Document(page_content=\"Empty document\")], embedding=embeddings\n",
    "            )\n",
    "            vectorstore.save_local(db_path)\n",
    "            return vectorstore\n",
    "\n",
    "        print(f\"Found {len(pdf_files)} PDF files in {base_dir}\")\n",
    "        documents = []\n",
    "        for pdf_path in pdf_files:\n",
    "            try:\n",
    "                # Extract metadata from file path\n",
    "                parts = pdf_path.split(os.sep)\n",
    "                if len(parts) >= 4:\n",
    "                    collection_name = parts[-4]\n",
    "                    course_name = parts[-3]\n",
    "                    module_name = parts[-2]\n",
    "                    file_name = parts[-1]\n",
    "                else:\n",
    "                    collection_name = \"unknown_collection\"\n",
    "                    course_name = \"unknown_course\"\n",
    "                    module_name = \"unknown_module\"\n",
    "                    file_name = os.path.basename(pdf_path)\n",
    "\n",
    "                loader = PyPDFLoader(pdf_path)\n",
    "                pages = loader.load()\n",
    "                for page in pages:\n",
    "                    page.metadata.update({\n",
    "                        \"collection_name\": collection_name,\n",
    "                        \"course_name\": course_name,\n",
    "                        \"module_name\": module_name,\n",
    "                        \"file_path\": pdf_path,\n",
    "                        \"file_name\": file_name\n",
    "                    })\n",
    "                documents.extend(pages)\n",
    "                print(f\"Loaded {pdf_path} with metadata\")\n",
    "            except Exception as e:\n",
    "                print(f\"Error loading {pdf_path}: {e}\")\n",
    "\n",
    "        text_splitter = RecursiveCharacterTextSplitter(chunk_size=2000, chunk_overlap=200)\n",
    "        docs = text_splitter.split_documents(documents)\n",
    "        embeddings = OpenAIEmbeddings()\n",
    "        vectorstore = FAISS.from_documents(docs, embedding=embeddings)\n",
    "        vectorstore.save_local(db_path)\n",
    "        print(f\"CLARK Vector DB created at {db_path} with {vectorstore.index.ntotal} documents\")\n",
    "    \n",
    "    return vectorstore\n",
    "\n",
    "if __name__ == \"__main__\":\n",
    "    clark_db_path = \"db/clark_db/clark_library_db\"\n",
    "    clark_base_dir = \"rag/clark_doc\"\n",
    "    clark_vectorstore = load_clark_vectorstore(clark_db_path, clark_base_dir)"
   ]
  },
  {
   "cell_type": "code",
   "execution_count": null,
   "metadata": {},
   "outputs": [],
   "source": []
  }
 ],
 "metadata": {
  "kernelspec": {
   "display_name": ".venv",
   "language": "python",
   "name": "python3"
  },
  "language_info": {
   "codemirror_mode": {
    "name": "ipython",
    "version": 3
   },
   "file_extension": ".py",
   "mimetype": "text/x-python",
   "name": "python",
   "nbconvert_exporter": "python",
   "pygments_lexer": "ipython3",
   "version": "3.12.3 (tags/v3.12.3:f6650f9, Apr  9 2024, 14:05:25) [MSC v.1938 64 bit (AMD64)]"
  },
  "orig_nbformat": 4,
  "vscode": {
   "interpreter": {
    "hash": "93f634be9a722f505c8b4f108732153585e535e7889bd0d25187ab344bf8cea5"
   }
  }
 },
 "nbformat": 4,
 "nbformat_minor": 2
}
