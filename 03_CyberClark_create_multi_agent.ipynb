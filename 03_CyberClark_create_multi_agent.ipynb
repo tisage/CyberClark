{
 "cells": [
  {
   "attachments": {},
   "cell_type": "markdown",
   "metadata": {},
   "source": [
    "## Create Multi-Agents System\n",
    "\n",
    "Defines the multi-agent system using LangGraph, importing the vector store from vector_db_setup.py."
   ]
  },
  {
   "cell_type": "code",
   "execution_count": null,
   "metadata": {},
   "outputs": [],
   "source": []
  },
  {
   "cell_type": "code",
   "execution_count": 1,
   "metadata": {},
   "outputs": [
    {
     "name": "stdout",
     "output_type": "stream",
     "text": [
      "Error displaying graph: name 'graph' is not defined\n"
     ]
    }
   ],
   "source": [
    "# # Optional: Visualize the graph\n",
    "# from IPython.display import Image, display\n",
    "# try:\n",
    "#     display(Image(graph.get_graph().draw_mermaid_png()))\n",
    "# except Exception as e:\n",
    "#     print(f\"Error displaying graph: {e}\")\n"
   ]
  },
  {
   "cell_type": "code",
   "execution_count": null,
   "metadata": {},
   "outputs": [],
   "source": []
  }
 ],
 "metadata": {
  "kernelspec": {
   "display_name": ".venv",
   "language": "python",
   "name": "python3"
  },
  "language_info": {
   "codemirror_mode": {
    "name": "ipython",
    "version": 3
   },
   "file_extension": ".py",
   "mimetype": "text/x-python",
   "name": "python",
   "nbconvert_exporter": "python",
   "pygments_lexer": "ipython3",
   "version": "3.12.3"
  },
  "orig_nbformat": 4,
  "vscode": {
   "interpreter": {
    "hash": "93f634be9a722f505c8b4f108732153585e535e7889bd0d25187ab344bf8cea5"
   }
  }
 },
 "nbformat": 4,
 "nbformat_minor": 2
}
